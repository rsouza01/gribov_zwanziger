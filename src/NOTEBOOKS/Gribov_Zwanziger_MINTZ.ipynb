{
 "cells": [
  {
   "cell_type": "code",
   "execution_count": 1,
   "metadata": {},
   "outputs": [
    {
     "data": {
      "application/javascript": [
       "   MathJax.Hub.Config({\n",
       "     TeX: { equationNumbers: { autoNumber: \"AMS\" } }\n",
       "   });"
      ],
      "text/plain": [
       "<IPython.core.display.Javascript object>"
      ]
     },
     "metadata": {},
     "output_type": "display_data"
    }
   ],
   "source": [
    " %%javascript\n",
    "    MathJax.Hub.Config({\n",
    "      TeX: { equationNumbers: { autoNumber: \"AMS\" } }\n",
    "    });"
   ]
  },
  {
   "cell_type": "markdown",
   "metadata": {},
   "source": [
    "## QCD InfraRed Extension Code"
   ]
  },
  {
   "cell_type": "code",
   "execution_count": 7,
   "metadata": {
    "scrolled": true
   },
   "outputs": [
    {
     "data": {
      "image/png": "[encoded data removed]",
      "text/plain": [
       "<Figure size 1080x504 with 1 Axes>"
      ]
     },
     "metadata": {},
     "output_type": "display_data"
    }
   ],
   "source": [
    "%matplotlib inline\n",
    "\n",
    "import math\n",
    "import cmath\n",
    "import numpy as np\n",
    "import scipy.integrate as integ\n",
    "import matplotlib.pyplot as plt\n",
    "import matplotlib as mpl\n",
    "#from scipy import integrate\n",
    "\n",
    "\n",
    "Nc = 3\n",
    "Nf = 2\n",
    "M3 = 0.196\n",
    "m2 = 0.639\n",
    "MPrime = 0.014\n",
    "\n",
    "\n",
    "def _infunc(x,func,gfun,hfun,more_args):\n",
    "    a = gfun(x)\n",
    "    b = hfun(x)\n",
    "    myargs = (x,) + more_args\n",
    "    return integ.quad(func,a,b,args=myargs)[0]\n",
    "\n",
    "def custom_dblquad(func, a, b, gfun, hfun, args=(), epsabs=1.49e-8, \n",
    "                   epsrel=1.49e-8, maxp1=50, limit=50):\n",
    "    return integ.quad(_infunc, a, b, (func, gfun, hfun, args), \n",
    "                          epsabs=epsabs, epsrel=epsrel, maxp1=maxp1, limit=limit)\n",
    "\n",
    "def Omega2(zeta, p, m2):\n",
    "    return p**2. + (m2 + M3/(-zeta + p**2. + m2))**2.\n",
    "\n",
    "def integrandTheta(theta, p, mu, mp):\n",
    "    \n",
    "    return 1./(2.*math.pi)**3.*(4.*math.pi)* p**2.* \\\n",
    "        (2.*Nc*Nf*(1./2./math.pi)*(2.)* \\\n",
    "             math.log(\n",
    "                 abs(\n",
    "                     (Omega2((1j*theta + mu)**2., p, mp) - (1j*theta + mu)**2.)/\n",
    "                     (Omega2(-theta**2., p,  mp) + theta**2.)                      \n",
    "                 )\n",
    "             )\n",
    "        )\n",
    "\n",
    "\n",
    "def pressureZeroT(mu, mp):\n",
    "    def lim_inf_theta(p):\n",
    "        return 0.\n",
    "\n",
    "    def lim_sup_theta(p):\n",
    "        return np.inf\n",
    "\n",
    "    #pressure_zero_t, err_dblquad = integ.dblquad(integrandTheta, 0, mu, lim_inf_theta, lim_sup_theta, args=(mu, mp))\n",
    "    pressure_zero_t, err_dblquad = custom_dblquad(integrandTheta, 0, mu, lim_inf_theta, lim_sup_theta, args=(mu, mp), maxp1=80, limit=80)\n",
    "    return pressure_zero_t\n",
    "    \n",
    "    \n",
    "\n",
    "# Cálculo da pressão desde mu=0.01GeV até mu=1.5GeV    \n",
    "mu_range = np.linspace(0.01, 1.51, 100)\n",
    "\n",
    "pressure_zero_T_list = []    \n",
    "\n",
    "for mu in mu_range:\n",
    "    pressure = pressureZeroT(mu, MPrime)\n",
    "    \n",
    "    # pressure_zero_T_list.append([mu, pressure])\n",
    "    pressure_zero_T_list.append(pressure)\n",
    "\n",
    "#print pressure_zero_T_list\n",
    "\n",
    "mpl.rcParams['figure.figsize'] = (15,7)\n",
    "plt.figure()\n",
    "plt.plot(mu_range, pressure_zero_T_list)\n",
    "plt.xlabel('Chemical Potential [GeV]')\n",
    "plt.ylabel('Pressure [GeV^4]')\n",
    "plt.title('QCD IRE EoS')\n",
    "plt.grid()\n",
    "plt.show()"
   ]
  },
  {
   "cell_type": "code",
   "execution_count": null,
   "metadata": {},
   "outputs": [],
   "source": []
  },
  {
   "cell_type": "code",
   "execution_count": null,
   "metadata": {},
   "outputs": [],
   "source": []
  }
 ],
 "metadata": {
  "kernelspec": {
   "display_name": "Python 2",
   "language": "python",
   "name": "python2"
  },
  "language_info": {
   "codemirror_mode": {
    "name": "ipython",
    "version": 2
   },
   "file_extension": ".py",
   "mimetype": "text/x-python",
   "name": "python",
   "nbconvert_exporter": "python",
   "pygments_lexer": "ipython2",
   "version": "2.7.14"
  }
 },
 "nbformat": 4,
 "nbformat_minor": 2
}
