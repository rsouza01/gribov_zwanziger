{
 "cells": [
  {
   "cell_type": "code",
   "execution_count": 1,
   "metadata": {},
   "outputs": [
    {
     "data": {
      "application/javascript": [
       "   MathJax.Hub.Config({\n",
       "     TeX: { equationNumbers: { autoNumber: \"AMS\" } }\n",
       "   });"
      ],
      "text/plain": [
       "<IPython.core.display.Javascript object>"
      ]
     },
     "metadata": {},
     "output_type": "display_data"
    }
   ],
   "source": [
    " %%javascript\n",
    "    MathJax.Hub.Config({\n",
    "      TeX: { equationNumbers: { autoNumber: \"AMS\" } }\n",
    "    });"
   ]
  },
  {
   "cell_type": "markdown",
   "metadata": {},
   "source": [
    "## QCD InfraRed Extension Code"
   ]
  },
  {
   "cell_type": "code",
   "execution_count": null,
   "metadata": {
    "scrolled": true
   },
   "outputs": [
    {
     "name": "stderr",
     "output_type": "stream",
     "text": [
      "/usr/local/lib/python2.7/dist-packages/scipy/integrate/quadpack.py:364: IntegrationWarning: The integral is probably divergent, or slowly convergent.\n",
      "  warnings.warn(msg, IntegrationWarning)\n",
      "/usr/local/lib/python2.7/dist-packages/scipy/integrate/quadpack.py:364: IntegrationWarning: The maximum number of subdivisions (50) has been achieved.\n",
      "  If increasing the limit yields no improvement it is advised to analyze \n",
      "  the integrand in order to determine the difficulties.  If the position of a \n",
      "  local difficulty can be determined (singularity, discontinuity) one will \n",
      "  probably gain from splitting up the interval and calling the integrator \n",
      "  on the subranges.  Perhaps a special-purpose integrator should be used.\n",
      "  warnings.warn(msg, IntegrationWarning)\n"
     ]
    }
   ],
   "source": [
    "%matplotlib inline\n",
    "\n",
    "import math\n",
    "import cmath\n",
    "import numpy as np\n",
    "import scipy.integrate as integ\n",
    "import matplotlib.pyplot as plt\n",
    "import matplotlib as mpl\n",
    "\n",
    "\n",
    "Nc = 3\n",
    "Nf = 2\n",
    "M3 = 0.196\n",
    "m2 = 0.639\n",
    "MPrime = 0.014\n",
    "\n",
    "def Omega2(zeta, p, m2):\n",
    "    return p**2. + (m2 + M3/(-zeta + p**2. + m2))**2.\n",
    "\n",
    "def integrandTheta(theta, p, mu, mp):\n",
    "    \n",
    "    return 1./(2.*math.pi)**3.*(4.*math.pi)* p**2.* \\\n",
    "        (2.*Nc*Nf*(1./2./math.pi)*(2.)* \\\n",
    "             math.log(\n",
    "                 abs(\n",
    "                     (Omega2((1j*theta + mu)**2., p, mp) - (1j*theta + mu)**2.)/\n",
    "                     (Omega2(-theta**2., p,  mp) + theta**2.)                      \n",
    "                 )\n",
    "             )\n",
    "        )\n",
    "\n",
    "\n",
    "def pressureZeroT(mu, mp):\n",
    "    def lim_inf_theta(p):\n",
    "        return 0.\n",
    "\n",
    "    def lim_sup_theta(p):\n",
    "        return np.inf\n",
    "\n",
    "    pressure_zero_t, err_dblquad = integ.dblquad(integrandTheta, 0, mu, lim_inf_theta, lim_sup_theta, args=(mu, mp))\n",
    "    return pressure_zero_t\n",
    "    \n",
    "    \n",
    "\n",
    "# Cálculo da pressão desde mu=0.01GeV até mu=1.5GeV    \n",
    "mu_range = np.linspace(0.01, 1.51, 100)\n",
    "\n",
    "pressure_zero_T_list = []    \n",
    "\n",
    "for mu in mu_range:\n",
    "    pressure = pressureZeroT(mu, MPrime)\n",
    "    \n",
    "    # pressure_zero_T_list.append([mu, pressure])\n",
    "    pressure_zero_T_list.append(pressure)\n",
    "\n",
    "#print pressure_zero_T_list\n",
    "\n",
    "mpl.rcParams['figure.figsize'] = (15,7)\n",
    "plt.figure()\n",
    "plt.plot(mu_range, pressure_zero_T_list)\n",
    "plt.xlabel('Chemical Potential [GeV]')\n",
    "plt.ylabel('Pressure [GeV^4]')\n",
    "plt.title('QCD IRE EoS')\n",
    "plt.grid()\n",
    "plt.show()"
   ]
  },
  {
   "cell_type": "code",
   "execution_count": null,
   "metadata": {},
   "outputs": [],
   "source": []
  }
 ],
 "metadata": {
  "kernelspec": {
   "display_name": "Python 2",
   "language": "python",
   "name": "python2"
  },
  "language_info": {
   "codemirror_mode": {
    "name": "ipython",
    "version": 2
   },
   "file_extension": ".py",
   "mimetype": "text/x-python",
   "name": "python",
   "nbconvert_exporter": "python",
   "pygments_lexer": "ipython2",
   "version": "2.7.14"
  }
 },
 "nbformat": 4,
 "nbformat_minor": 2
}
