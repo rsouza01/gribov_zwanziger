{
 "cells": [
  {
   "cell_type": "code",
   "execution_count": 2,
   "metadata": {},
   "outputs": [
    {
     "name": "stdout",
     "output_type": "stream",
     "text": [
      "(1.6666666666666667, 1.8503717077085944e-14)\n"
     ]
    }
   ],
   "source": [
    "import scipy.integrate as integ\n",
    "\n",
    "\n",
    "def integrand(t, n, x):\n",
    "    return np.exp(-x*t) / t**n\n"
   ]
  },
  {
   "cell_type": "code",
   "execution_count": 4,
   "metadata": {},
   "outputs": [
    {
     "data": {
      "text/plain": [
       "(0.010416666666666668, 4.101620128472366e-16)"
      ]
     },
     "execution_count": 4,
     "metadata": {},
     "output_type": "execute_result"
    }
   ],
   "source": [
    "def f(x, y):\n",
    "    return x*y\n",
    "\n",
    "def bounds_y():\n",
    "    return [0, 0.5]\n",
    "\n",
    "def bounds_x(y):\n",
    "    return [0, 1-2*y]\n",
    "\n",
    "integ.nquad(f, [bounds_x, bounds_y])"
   ]
  },
  {
   "cell_type": "code",
   "execution_count": 26,
   "metadata": {},
   "outputs": [
    {
     "data": {
      "text/plain": [
       "(4.1887902047863905, 1.3890950796949933e-13)"
      ]
     },
     "execution_count": 26,
     "metadata": {},
     "output_type": "execute_result"
    }
   ],
   "source": [
    "#Volume da Esfera\n",
    "\n",
    "radius = 1.0\n",
    "\n",
    "def volElement(phi, theta, rho):\n",
    "    return rho**2. * math.sin(phi)\n",
    "\n",
    "def bounds_phi(t,p):\n",
    "    return [0., math.pi]\n",
    "\n",
    "def bounds_theta(p):\n",
    "    return [0., 2.*math.pi]\n",
    "\n",
    "def bounds_rho():\n",
    "    return [0.,radius]\n",
    "\n",
    "integ.nquad(volElement, [bounds_phi, bounds_theta, bounds_rho ])"
   ]
  },
  {
   "cell_type": "code",
   "execution_count": 24,
   "metadata": {},
   "outputs": [
    {
     "name": "stdout",
     "output_type": "stream",
     "text": [
      "0.0\n",
      "volume - 4.18879020479\n"
     ]
    }
   ],
   "source": [
    "import scipy\n",
    "from scipy.integrate import quad, dblquad, tplquad\n",
    "from numpy import *\n",
    "# limits for radius\n",
    "r1 = 0.\n",
    "r2 = 1.\n",
    "# limits for theta\n",
    "t1 = 0\n",
    "t2 = 2*pi\n",
    "# limits for phi\n",
    "p1 = 0\n",
    "p2 = pi\n",
    "\n",
    "def diff_volume(p,t,r):\n",
    "    return r**2*sin(p)\n",
    "\n",
    "volume = tplquad(diff_volume, r1, r2, lambda r:   t1, lambda r:   t2,\n",
    "                                      lambda r,t: p1, lambda r,t: p2)[0]\n",
    "\n",
    "print volume - (4./3.)*math.pi*r2**3\n",
    "print \"volume - \" + str((4./3.)*math.pi*r2**3)"
   ]
  },
  {
   "cell_type": "code",
   "execution_count": null,
   "metadata": {},
   "outputs": [],
   "source": []
  },
  {
   "cell_type": "code",
   "execution_count": null,
   "metadata": {},
   "outputs": [],
   "source": []
  }
 ],
 "metadata": {
  "kernelspec": {
   "display_name": "Python 2",
   "language": "python",
   "name": "python2"
  },
  "language_info": {
   "codemirror_mode": {
    "name": "ipython",
    "version": 2
   },
   "file_extension": ".py",
   "mimetype": "text/x-python",
   "name": "python",
   "nbconvert_exporter": "python",
   "pygments_lexer": "ipython2",
   "version": "2.7.14"
  }
 },
 "nbformat": 4,
 "nbformat_minor": 2
}
