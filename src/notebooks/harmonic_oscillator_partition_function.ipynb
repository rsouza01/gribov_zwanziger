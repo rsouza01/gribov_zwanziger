{
 "cells": [
  {
   "cell_type": "markdown",
   "metadata": {},
   "source": [
    "# Harmonic Oscilator Partition function"
   ]
  },
  {
   "cell_type": "code",
   "execution_count": 1,
   "metadata": {},
   "outputs": [
    {
     "data": {
      "application/javascript": [
       "   MathJax.Hub.Config({\n",
       "     TeX: { equationNumbers: { autoNumber: \"AMS\" } }\n",
       "   });\n",
       "   "
      ],
      "text/plain": [
       "<IPython.core.display.Javascript object>"
      ]
     },
     "metadata": {},
     "output_type": "display_data"
    }
   ],
   "source": [
    " %%javascript\n",
    "    MathJax.Hub.Config({\n",
    "      TeX: { equationNumbers: { autoNumber: \"AMS\" } }\n",
    "    });\n",
    "    "
   ]
  },
  {
   "cell_type": "code",
   "execution_count": 5,
   "metadata": {},
   "outputs": [
    {
     "data": {
      "text/html": [
       "<style>.container { width:100% !important; }</style>"
      ],
      "text/plain": [
       "<IPython.core.display.HTML object>"
      ]
     },
     "metadata": {},
     "output_type": "display_data"
    }
   ],
   "source": [
    "from IPython.core.display import display, HTML\n",
    "display(HTML(\"<style>.container { width:100% !important; }</style>\"))   \n",
    "%matplotlib inline"
   ]
  },
  {
   "cell_type": "markdown",
   "metadata": {},
   "source": [
    "## Classical\n",
    "\n",
    "In the classical regime, the partition function has the following definition:\n",
    "\n",
    "\\begin{equation}\n",
    " Z = \\frac{1}{h^3} \\int e^{-\\beta H(q, p)} d^3q \\; d^3p\n",
    "\\end{equation}\n",
    "\n",
    "One useful relation is the Gaussian integral, which is going to be used for the partition function calculation:\n",
    "\n",
    "\\begin{equation}\n",
    "  \\int_{-\\infty}^{+\\infty} e^{-ax^2} dx = \\sqrt{\\frac{\\pi}{a}}\n",
    "\\end{equation}\n",
    "\n",
    "For the harmonic oscilator, the Hamiltonian for mass $m$ and angular frequency $omega$ can be stated as\n",
    "\n",
    "\\begin{equation}\n",
    " \\mathcal{H} = \\frac{p^2}{2m} + \\frac{1}{2} m \\omega^2 x^2\n",
    "\\end{equation}\n",
    "\n",
    "and energy\n",
    "\n",
    "\\begin{equation}\n",
    " \\mathcal{E} = \\frac{p^2}{2m} + \\frac{1}{2} m \\omega^2 x^2\n",
    "\\end{equation}\n",
    "\n",
    "From the definition, the partition function now can be calculated as:\n",
    "\n",
    "\n",
    "\\begin{equation} \\label{eq1}\n",
    "    \\begin{split}\n",
    "        Z_{CHO} & = \\frac{1}{h}  \\int_{-\\infty}^{+\\infty} dx \\int_{-\\infty}^{+\\infty} dp \\; e^{-\\beta \\mathcal{E}}\\\\\n",
    "        & = \\frac{1}{h}  \\int dx \\int dp \\; e^{-\\beta \\mathcal{\\left( \\frac{p^2}{2m} + \\frac{1}{2} m \\omega^2 x^2 \\right)}}\\\\    \n",
    "        & = \\frac{1}{h}  \n",
    "        \\int dx \\; e^{ \\left( \\frac{-\\beta}{2} m \\omega^2 x^2 \\right)}\n",
    "        \\int dp \\; e^{\\left( \\frac{-\\beta}{2m} p^2 \\right)} \\\\ \n",
    "        & = \\frac{1}{h}  \n",
    "        \\sqrt\\frac{\\pi}{\\frac{\\beta}{2}m \\omega^2}\n",
    "        \\sqrt\\frac{\\pi}{\\frac{\\beta}{2m}}\\\\\n",
    "        & = \\frac{2 \\pi}{h \\beta \\omega}\\\\\n",
    "        & = \\frac{k_B T}{\\hbar \\omega}\\\\\n",
    "\\end{split}\n",
    "\\end{equation}\n",
    "\n",
    "\n",
    "with dimensions:\n",
    "\n",
    "\\begin{equation}\n",
    " \\left[ Z_{CHO} \\right] = \\left[ T \\frac{E}{T} \\frac{1}{Et} t \\right] = \\left[ dimensionless \\right]\n",
    "\\end{equation}\n",
    "\n"
   ]
  },
  {
   "cell_type": "markdown",
   "metadata": {},
   "source": [
    "Lets put some numbers in different unit systems..."
   ]
  },
  {
   "cell_type": "code",
   "execution_count": 39,
   "metadata": {},
   "outputs": [
    {
     "name": "stdout",
     "output_type": "stream",
     "text": [
      "Unit system: UnitSystems.CGS.\n",
      "Z_cho: 0.209757437109.\n",
      "\n",
      "Pressure: -2.15630165939e-15.\n",
      "\n",
      "Unit system: UnitSystems.SI.\n",
      "Z_cho: 1.30920295802e+11.\n",
      "\n",
      "Pressure: 3.53416399941e-27.\n",
      "\n"
     ]
    }
   ],
   "source": [
    "from enum import Enum\n",
    "import math\n",
    "\n",
    "# Definitions\n",
    "class UnitSystems(Enum):\n",
    "    CGS = 0\n",
    "    SI  = 1\n",
    "\n",
    "def Z_cho(kb, h_bar, T, omega):\n",
    "    return (kb * T) / (h_bar * omega)\n",
    "\n",
    "# Constants\n",
    "h_bar    = [6.582119514e-16, 1.054571800e-34]\n",
    "k_B      = [1.38064852e-16,  1.38064852e-23]\n",
    "volume   = [10,  1e7]\n",
    "Zs_cho = []\n",
    "\n",
    "#Input\n",
    "T     = 100 # Kelvin\n",
    "omega = 100 # seconds^-1\n",
    "\n",
    "for unit in UnitSystems:\n",
    "    \n",
    "    Z_cho_calc = Z_cho(k_B[unit.value], h_bar[unit.value], T, omega)\n",
    "    Zs_cho.append(Z_cho_calc)\n",
    "    pressure = (k_B[unit.value] * T / volume[unit.value]) * math.log(Z_cho_calc)\n",
    "    \n",
    "    print 'Unit system: {}.'.format(unit)\n",
    "    print 'Z_cho: {}.\\n'.format(Zs_cho[unit.value])\n",
    "    print 'Pressure: {}.\\n'.format(pressure)\n",
    "    \n",
    "    "
   ]
  },
  {
   "cell_type": "markdown",
   "metadata": {},
   "source": [
    "The pressure is given by\n",
    "\n",
    "\n",
    "\\begin{equation}\n",
    " \\mathcal{P} = \\frac{k_B T}{V} ln \\; Z\n",
    "\\end{equation}\n",
    "\n"
   ]
  },
  {
   "cell_type": "code",
   "execution_count": null,
   "metadata": {},
   "outputs": [],
   "source": []
  }
 ],
 "metadata": {
  "kernelspec": {
   "display_name": "Python 2",
   "language": "python",
   "name": "python2"
  },
  "language_info": {
   "codemirror_mode": {
    "name": "ipython",
    "version": 2
   },
   "file_extension": ".py",
   "mimetype": "text/x-python",
   "name": "python",
   "nbconvert_exporter": "python",
   "pygments_lexer": "ipython2",
   "version": "2.7.14"
  }
 },
 "nbformat": 4,
 "nbformat_minor": 2
}
