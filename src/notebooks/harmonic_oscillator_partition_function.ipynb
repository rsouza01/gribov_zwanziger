{
 "cells": [
  {
   "cell_type": "markdown",
   "metadata": {},
   "source": [
    "# Harmonic Oscilator Partition function"
   ]
  },
  {
   "cell_type": "code",
   "execution_count": 4,
   "metadata": {},
   "outputs": [
    {
     "data": {
      "application/javascript": [
       "   MathJax.Hub.Config({\n",
       "     TeX: { equationNumbers: { autoNumber: \"AMS\" } }\n",
       "   });"
      ],
      "text/plain": [
       "<IPython.core.display.Javascript object>"
      ]
     },
     "metadata": {},
     "output_type": "display_data"
    }
   ],
   "source": [
    " %%javascript\n",
    "    MathJax.Hub.Config({\n",
    "      TeX: { equationNumbers: { autoNumber: \"AMS\" } }\n",
    "    });"
   ]
  },
  {
   "cell_type": "code",
   "execution_count": 5,
   "metadata": {},
   "outputs": [
    {
     "data": {
      "text/html": [
       "<style>.container { width:100% !important; }</style>"
      ],
      "text/plain": [
       "<IPython.core.display.HTML object>"
      ]
     },
     "metadata": {},
     "output_type": "display_data"
    }
   ],
   "source": [
    "from IPython.core.display import display, HTML\n",
    "display(HTML(\"<style>.container { width:100% !important; }</style>\"))   \n",
    "%matplotlib inline"
   ]
  },
  {
   "cell_type": "markdown",
   "metadata": {},
   "source": [
    "## Classical\n",
    "\n",
    "In the classical regime, the partition function has the following definition:\n",
    "\n",
    "\\begin{equation}\n",
    " Z = \\frac{1}{h^3} \\int e^{-\\beta H(q, p)} d^3q \\; d^3p\n",
    "\\end{equation}\n",
    "\n",
    "One useful relation is the Gaussian integral, which is going to be used for the partition function calculation:\n",
    "\n",
    "\\begin{equation}\n",
    "  \\int_{-\\infty}^{+\\infty} e^{-ax^2} dx = \\sqrt{\\frac{\\pi}{a}}\n",
    "\\end{equation}\n",
    "\n",
    "For the harmonic oscilator, the Hamiltonian for mass $m$ and angular frequency $omega$ can be stated as\n",
    "\n",
    "\\begin{equation}\n",
    " \\mathcal{H} = \\frac{p^2}{2m} + \\frac{1}{2} m \\omega^2 x^2\n",
    "\\end{equation}\n",
    "\n",
    "and energy\n",
    "\n",
    "\\begin{equation}\n",
    " \\mathcal{E} = \\frac{p^2}{2m} + \\frac{1}{2} m \\omega^2 x^2\n",
    "\\end{equation}\n",
    "\n",
    "\n",
    "Fro the definition, the partition function now can be calculated as:\n",
    "\n",
    "\n",
    "\\begin{equation} \\label{eq1}\n",
    "    \\begin{split}\n",
    "        Z_{CHO} & = \\frac{1}{h}  \\int_{-\\infty}^{+\\infty} dx \\int_{-\\infty}^{+\\infty} dp \\; e^{-\\beta \\mathcal{E}}\\\\\n",
    "        & = \\frac{1}{h}  \\int dx \\int dp \\; e^{-\\beta \\mathcal{\\left( \\frac{p^2}{2m} + \\frac{1}{2} m \\omega^2 x^2 \\right)}}\\\\    \n",
    "        & = \\frac{1}{h}  \n",
    "        \\int dx \\; e^{ \\left( \\frac{-\\beta}{2} m \\omega^2 x^2 \\right)}\n",
    "        \\int dp \\; e^{\\left( \\frac{-\\beta}{2m} p^2 \\right)} \\\\ \n",
    "        & = \\frac{1}{h}  \n",
    "        \\sqrt\\frac{\\pi}{\\frac{\\beta}{2}m \\omega^2}\n",
    "        \\sqrt\\frac{\\pi}{\\frac{\\beta}{2m}}\\\\\n",
    "        & = \\frac{2 \\pi}{h \\beta \\omega}\\\\\n",
    "        & = \\frac{k_B T}{\\hbar \\omega}\\\\\n",
    "\\end{split}\n",
    "\\end{equation}"
   ]
  },
  {
   "cell_type": "code",
   "execution_count": null,
   "metadata": {},
   "outputs": [],
   "source": []
  }
 ],
 "metadata": {
  "kernelspec": {
   "display_name": "Python 2",
   "language": "python",
   "name": "python2"
  },
  "language_info": {
   "codemirror_mode": {
    "name": "ipython",
    "version": 2
   },
   "file_extension": ".py",
   "mimetype": "text/x-python",
   "name": "python",
   "nbconvert_exporter": "python",
   "pygments_lexer": "ipython2",
   "version": "2.7.14"
  }
 },
 "nbformat": 4,
 "nbformat_minor": 2
}
